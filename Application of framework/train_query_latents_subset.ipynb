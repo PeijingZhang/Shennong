{
 "cells": [
  {
   "cell_type": "markdown",
   "id": "52715cdf",
   "metadata": {},
   "source": [
    "# Predicting individual cell responses to pharmacologic compounds with Shennong framework\n",
    "### Visualization the latent space of the dataset and the influence term score for each cell"
   ]
  },
  {
   "cell_type": "code",
   "execution_count": 1,
   "id": "81f1a436",
   "metadata": {},
   "outputs": [],
   "source": [
    "import warnings\n",
    "warnings.simplefilter(action='ignore')"
   ]
  },
  {
   "cell_type": "code",
   "execution_count": 2,
   "id": "b91b9ee8",
   "metadata": {},
   "outputs": [
    {
     "name": "stderr",
     "output_type": "stream",
     "text": [
      "WARNING:root:In order to use the mouse gastrulation seqFISH datsets, please install squidpy (see https://github.com/scverse/squidpy).\n",
      "WARNING:root:In order to use sagenet models, please install pytorch geometric (see https://pytorch-geometric.readthedocs.io) and \n",
      " captum (see https://github.com/pytorch/captum).\n",
      "INFO:lightning_fabric.utilities.seed:Global seed set to 0\n",
      "WARNING:root:mvTCR is not installed. To use mvTCR models, please install it first using \"pip install mvtcr\"\n",
      "WARNING:root:multigrate is not installed. To use multigrate models, please install it first using \"pip install multigrate\".\n"
     ]
    }
   ],
   "source": [
    "import scanpy as sc\n",
    "import torch\n",
    "import scarches as sca\n",
    "import pandas as pd\n",
    "import numpy as np\n",
    "import gdown"
   ]
  },
  {
   "cell_type": "code",
   "execution_count": 3,
   "id": "f0a0444f",
   "metadata": {},
   "outputs": [],
   "source": [
    "import matplotlib.pyplot as plt\n",
    "import matplotlib\n",
    "import seaborn as sb\n",
    "import os\n",
    "from scarches.plotting.terms_scores import plot_abs_bfs_key"
   ]
  },
  {
   "cell_type": "code",
   "execution_count": 4,
   "id": "656de398",
   "metadata": {},
   "outputs": [],
   "source": [
    "sc.set_figure_params(frameon=False)\n",
    "sc.set_figure_params(dpi=300)\n",
    "sc.set_figure_params(figsize=(5, 5))\n",
    "torch.set_printoptions(precision=3, sci_mode=False, edgeitems=7)\n",
    "plt.rcParams[\"axes.grid\"] = False\n",
    "matplotlib.rc('ytick', labelsize=14)\n",
    "matplotlib.rc('xtick', labelsize=14)"
   ]
  },
  {
   "cell_type": "code",
   "execution_count": 5,
   "id": "b953dc3d-a8f4-404f-bc8f-aa01bdc5f0bc",
   "metadata": {},
   "outputs": [],
   "source": [
    "sc.settings.verbosity = 3"
   ]
  },
  {
   "cell_type": "markdown",
   "id": "1643fc9c",
   "metadata": {},
   "source": [
    "## Data info and model dir"
   ]
  },
  {
   "cell_type": "code",
   "execution_count": 6,
   "id": "362caf3b",
   "metadata": {},
   "outputs": [],
   "source": [
    "adata_train = 'train_gmt.h5ad'\n",
    "adata_train_umap = 'train_gmt_umap.h5ad'\n",
    "adata_train_umap_metadata = 'train_gmt_umap_metadata.csv'\n",
    "\n",
    "adata_query = 'query.h5ad'\n",
    "adata_query_output = 'query_gmt.h5ad'\n",
    "adata_query_metadata = 'query_gmt_umap_metadata.csv'\n",
    "\n",
    "adata_train_query = 'train_query_gmt.h5ad'\n",
    "adata_train_query_metadata = 'train_query_gmt_umap_metadata.csv'\n",
    "\n",
    "latents_sub_adata_dir = 'latents_sub.h5ad'"
   ]
  },
  {
   "cell_type": "code",
   "execution_count": 7,
   "id": "8fe97228",
   "metadata": {},
   "outputs": [],
   "source": [
    "model_train_dir = 'train_normal'\n",
    "model_query_dir = 'query_normal'"
   ]
  },
  {
   "cell_type": "code",
   "execution_count": 8,
   "id": "d4d0b2b0",
   "metadata": {},
   "outputs": [],
   "source": [
    "output_dir = 'output/'\n",
    "output_gene_dir = 'output/term_gene/'\n",
    "\n",
    "if (os.path.exists(output_dir) != True):\n",
    "    os.mkdir(output_dir)\n",
    "if (os.path.exists(output_gene_dir) != True):\n",
    "    os.mkdir(output_gene_dir)"
   ]
  },
  {
   "cell_type": "code",
   "execution_count": 9,
   "id": "61100003",
   "metadata": {},
   "outputs": [],
   "source": [
    "MEAN=False"
   ]
  },
  {
   "cell_type": "markdown",
   "id": "0ae0614b",
   "metadata": {},
   "source": [
    "## expiMap load model"
   ]
  },
  {
   "cell_type": "code",
   "execution_count": 10,
   "id": "ca66cd03",
   "metadata": {},
   "outputs": [],
   "source": [
    "query = sc.read(adata_query_output)"
   ]
  },
  {
   "cell_type": "code",
   "execution_count": 11,
   "id": "14d4af0f",
   "metadata": {},
   "outputs": [
    {
     "name": "stdout",
     "output_type": "stream",
     "text": [
      "AnnData object with n_obs × n_vars = 42517 × 8500\n",
      "    obs: 'Cell', 'nCount_RNA', 'nFeature_RNA', 'reads', 'depth', 'percent.mt', 'Sample_Name', 'Patient', 'Cancer_Type', 'Tissue_Source', 'Cluster', 'Celltype', 'Celllineage', 'Annotation', 'sample_cluster', 'sample_celltype', 'sample_lineage', 'Tissue', 're_clusters', 're_annotation', 're_cluster_annotation', 're_clusters_raw', 'Malignangt', 're_cluster_merge', 're_cluster_merge2', 'batch'\n",
      "    uns: 'terms'\n",
      "    layers: 'counts'\n",
      "\n",
      "INITIALIZING NEW NETWORK..............\n",
      "Encoder Architecture:\n",
      "\tInput Layer in, out and cond: 8500 512 3\n",
      "\tHidden Layer 1 in/out: 512 512\n",
      "\tHidden Layer 2 in/out: 512 512\n",
      "\tHidden Layer 3 in/out: 512 512\n",
      "\tHidden Layer 4 in/out: 512 512\n",
      "\tMean/Var Layer in/out: 512 17276\n",
      "Decoder Architecture:\n",
      "\tMasked linear layer in, ext_m, ext, cond, out:  17276 0 0 3 8500\n",
      "\twith hard mask.\n",
      "Last Decoder layer: softmax\n"
     ]
    }
   ],
   "source": [
    "q_intr_cvae = sca.models.EXPIMAP.load(model_query_dir, query)"
   ]
  },
  {
   "cell_type": "markdown",
   "id": "a7036a0e-60f6-403a-b765-158475a67f5f",
   "metadata": {},
   "source": [
    "### load data"
   ]
  },
  {
   "cell_type": "code",
   "execution_count": 14,
   "id": "b54036d8-8c0c-4fad-b8d3-4ee1f4c7b18e",
   "metadata": {},
   "outputs": [],
   "source": [
    "adata = sc.read_h5ad(adata_train)"
   ]
  },
  {
   "cell_type": "code",
   "execution_count": null,
   "id": "1abaef2a-041d-4b7b-a6be-ef75e214c549",
   "metadata": {},
   "outputs": [],
   "source": [
    "query_pbmc = sc.AnnData.concatenate(adata, query, batch_key='batch_join', uns_merge='same')"
   ]
  },
  {
   "cell_type": "code",
   "execution_count": null,
   "id": "71cc4585-a175-4f60-8aa5-3accabb9c497",
   "metadata": {},
   "outputs": [],
   "source": [
    "query_pbmc.obsm['X_cvae'] = q_intr_cvae.get_latent(query_pbmc.X, \n",
    "                                                   query_pbmc.obs['Tissue_Source'], \n",
    "                                                   mean=MEAN, \n",
    "                                                   only_active=True)"
   ]
  },
  {
   "cell_type": "code",
   "execution_count": null,
   "id": "bdff40ca-8b8e-4b9c-92b9-06988a9e1397",
   "metadata": {},
   "outputs": [],
   "source": [
    "q_intr_cvae.latent_directions(adata = query_pbmc)"
   ]
  },
  {
   "cell_type": "code",
   "execution_count": null,
   "id": "aa13dc46-05de-46e3-8e38-f7cc378664b8",
   "metadata": {},
   "outputs": [],
   "source": [
    "query_pbmc.obsm['X_cvae_direction'] = query_pbmc.obsm['X_cvae'] * query_pbmc.uns['directions']"
   ]
  },
  {
   "cell_type": "code",
   "execution_count": null,
   "id": "9db695a6-a559-4638-b979-4ec0dcbfdcb4",
   "metadata": {},
   "outputs": [],
   "source": [
    "query_pbmc"
   ]
  },
  {
   "cell_type": "markdown",
   "id": "0484940b",
   "metadata": {},
   "source": [
    "## Analysis of the extension nodes for reference + query dataset"
   ]
  },
  {
   "cell_type": "markdown",
   "id": "10f91f2b",
   "metadata": {},
   "source": [
    "## cacluate latents in singel cell"
   ]
  },
  {
   "cell_type": "code",
   "execution_count": 22,
   "id": "d762598e",
   "metadata": {},
   "outputs": [],
   "source": [
    "latents = (q_intr_cvae.get_latent(query_pbmc.X, query_pbmc.obs['Tissue_Source'], mean=MEAN) * query_pbmc.uns['directions'])"
   ]
  },
  {
   "cell_type": "code",
   "execution_count": 23,
   "id": "79ae0639",
   "metadata": {},
   "outputs": [
    {
     "data": {
      "text/plain": [
       "(388646, 17276)"
      ]
     },
     "execution_count": 23,
     "metadata": {},
     "output_type": "execute_result"
    }
   ],
   "source": [
    "latents.shape"
   ]
  },
  {
   "cell_type": "markdown",
   "id": "71fdf733",
   "metadata": {},
   "source": [
    "### significant differents terms latents"
   ]
  },
  {
   "cell_type": "code",
   "execution_count": 1,
   "id": "001017aa",
   "metadata": {},
   "outputs": [],
   "source": [
    "terms = query_pbmc.uns['terms']\n",
    "terms = list(terms)\n",
    "select_terms = pd.read_csv((output_dir + 'train_query_top_term.csv'), index_col = 0) \n",
    "idx = [terms.index(term) for term in select_terms]"
   ]
  },
  {
   "cell_type": "code",
   "execution_count": 26,
   "id": "bb8e050a",
   "metadata": {},
   "outputs": [],
   "source": [
    "latents_sub = latents[:, idx]"
   ]
  },
  {
   "cell_type": "code",
   "execution_count": 30,
   "id": "67babb56",
   "metadata": {},
   "outputs": [],
   "source": [
    "latents_sub_adata = sc.AnnData(latents_sub, columns = select_terms)\n",
    "latents_sub_adata.write(latents_sub_adata_dir, compression = True)"
   ]
  },
  {
   "cell_type": "code",
   "execution_count": null,
   "id": "ab218f3e",
   "metadata": {},
   "outputs": [],
   "source": []
  }
 ],
 "metadata": {
  "kernelspec": {
   "display_name": "scarches2",
   "language": "python",
   "name": "scarches"
  },
  "language_info": {
   "codemirror_mode": {
    "name": "ipython",
    "version": 3
   },
   "file_extension": ".py",
   "mimetype": "text/x-python",
   "name": "python",
   "nbconvert_exporter": "python",
   "pygments_lexer": "ipython3",
   "version": "3.9.19"
  }
 },
 "nbformat": 4,
 "nbformat_minor": 5
}
